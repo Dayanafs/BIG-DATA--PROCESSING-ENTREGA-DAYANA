{
 "cells": [
  {
   "cell_type": "code",
   "execution_count": 1,
   "id": "54095b51",
   "metadata": {},
   "outputs": [],
   "source": [
    "import pyspark\n",
    "\n",
    "#Creamos una sesion de spark\n",
    "from pyspark.sql import SparkSession\n",
    "\n",
    "#Creamos un objeto de spark session\n",
    "spark = SparkSession.builder.appName(\"pysparkdf\").getOrCreate()"
   ]
  },
  {
   "cell_type": "code",
   "execution_count": 2,
   "id": "9147a264",
   "metadata": {},
   "outputs": [],
   "source": [
    "#Leemos un cvs\n",
    "df_2021 = spark.read.format(\"csv\").option(\"header\", \"true\").option(\"delimiter\", \",\").load(\"C:/Users/USER/Desktop/DayanaFrepost/big-data-processing/Proyecto-Final/Datasets/world-happiness-report-2021.csv\")\n"
   ]
  },
  {
   "cell_type": "code",
   "execution_count": 3,
   "id": "c955782b",
   "metadata": {},
   "outputs": [
    {
     "name": "stdout",
     "output_type": "stream",
     "text": [
      "root\n",
      " |-- Country name: string (nullable = true)\n",
      " |-- Regional indicator: string (nullable = true)\n",
      " |-- Ladder score: string (nullable = true)\n",
      " |-- Standard error of ladder score: string (nullable = true)\n",
      " |-- upperwhisker: string (nullable = true)\n",
      " |-- lowerwhisker: string (nullable = true)\n",
      " |-- Logged GDP per capita: string (nullable = true)\n",
      " |-- Social support: string (nullable = true)\n",
      " |-- Healthy life expectancy: string (nullable = true)\n",
      " |-- Freedom to make life choices: string (nullable = true)\n",
      " |-- Generosity: string (nullable = true)\n",
      " |-- Perceptions of corruption: string (nullable = true)\n",
      " |-- Ladder score in Dystopia: string (nullable = true)\n",
      " |-- Explained by: Log GDP per capita: string (nullable = true)\n",
      " |-- Explained by: Social support: string (nullable = true)\n",
      " |-- Explained by: Healthy life expectancy: string (nullable = true)\n",
      " |-- Explained by: Freedom to make life choices: string (nullable = true)\n",
      " |-- Explained by: Generosity: string (nullable = true)\n",
      " |-- Explained by: Perceptions of corruption: string (nullable = true)\n",
      " |-- Dystopia + residual: string (nullable = true)\n",
      "\n"
     ]
    }
   ],
   "source": [
    "#Para ver el esquema de los datos:\n",
    "df_2021.printSchema()"
   ]
  },
  {
   "cell_type": "code",
   "execution_count": 4,
   "id": "8d29bf4a",
   "metadata": {
    "scrolled": true
   },
   "outputs": [
    {
     "name": "stdout",
     "output_type": "stream",
     "text": [
      "+------------+------------+--------------------+\n",
      "|Country name|Ladder score|  Regional indicator|\n",
      "+------------+------------+--------------------+\n",
      "|     Finland|       7.842|      Western Europe|\n",
      "|     Denmark|       7.620|      Western Europe|\n",
      "| Switzerland|       7.571|      Western Europe|\n",
      "|     Iceland|       7.554|      Western Europe|\n",
      "| Netherlands|       7.464|      Western Europe|\n",
      "|      Norway|       7.392|      Western Europe|\n",
      "|      Sweden|       7.363|      Western Europe|\n",
      "|  Luxembourg|       7.324|      Western Europe|\n",
      "| New Zealand|       7.277|North America and...|\n",
      "|     Austria|       7.268|      Western Europe|\n",
      "+------------+------------+--------------------+\n",
      "only showing top 10 rows\n",
      "\n"
     ]
    }
   ],
   "source": [
    "#Seleccionamos ciertas columnas\n",
    "df_2021.select('Country name', 'Ladder score','Regional indicator').show(10)"
   ]
  },
  {
   "cell_type": "code",
   "execution_count": 5,
   "id": "0279bfe0",
   "metadata": {},
   "outputs": [],
   "source": [
    "from pyspark.sql.functions import filter,first\n"
   ]
  },
  {
   "cell_type": "code",
   "execution_count": 6,
   "id": "830f559e",
   "metadata": {},
   "outputs": [],
   "source": [
    "#isNotNull()\n",
    "from pyspark.sql.functions import *\n",
    "\n"
   ]
  },
  {
   "cell_type": "code",
   "execution_count": 7,
   "id": "37b9b1d1",
   "metadata": {},
   "outputs": [],
   "source": [
    "from pyspark.sql.functions import desc\n"
   ]
  },
  {
   "cell_type": "code",
   "execution_count": 8,
   "id": "ad1da2b4",
   "metadata": {},
   "outputs": [
    {
     "name": "stdout",
     "output_type": "stream",
     "text": [
      "+--------------+------------+--------------------+\n",
      "|  Country name|Ladder score|  Regional indicator|\n",
      "+--------------+------------+--------------------+\n",
      "|       Finland|       7.842|      Western Europe|\n",
      "|       Denmark|       7.620|      Western Europe|\n",
      "|   Switzerland|       7.571|      Western Europe|\n",
      "|       Iceland|       7.554|      Western Europe|\n",
      "|   Netherlands|       7.464|      Western Europe|\n",
      "|        Norway|       7.392|      Western Europe|\n",
      "|        Sweden|       7.363|      Western Europe|\n",
      "|    Luxembourg|       7.324|      Western Europe|\n",
      "|   New Zealand|       7.277|North America and...|\n",
      "|       Austria|       7.268|      Western Europe|\n",
      "|     Australia|       7.183|North America and...|\n",
      "|        Israel|       7.157|Middle East and N...|\n",
      "|       Germany|       7.155|      Western Europe|\n",
      "|        Canada|       7.103|North America and...|\n",
      "|       Ireland|       7.085|      Western Europe|\n",
      "|    Costa Rica|       7.069|Latin America and...|\n",
      "|United Kingdom|       7.064|      Western Europe|\n",
      "|Czech Republic|       6.965|Central and Easte...|\n",
      "| United States|       6.951|North America and...|\n",
      "|       Belgium|       6.834|      Western Europe|\n",
      "+--------------+------------+--------------------+\n",
      "only showing top 20 rows\n",
      "\n"
     ]
    }
   ],
   "source": [
    "df_2021_ordenado = df_2021.select('Country name', 'Ladder score','Regional indicator').orderBy(desc(\"Ladder score\"), desc(\"Country name\"))\n",
    "# Muestra el DataFrame ordenado\n",
    "df_2021_ordenado.show()"
   ]
  },
  {
   "cell_type": "code",
   "execution_count": 9,
   "id": "5001576d",
   "metadata": {},
   "outputs": [
    {
     "name": "stdout",
     "output_type": "stream",
     "text": [
      "El país más feliz del 2021 es: Finland\n"
     ]
    }
   ],
   "source": [
    "# *******Pregunta 1: ¿Cuál es el país más “feliz” del 2021 según la data? (considerar que la columna “Ladder score” mayor número más feliz es el país)\n",
    "happiest_country = df_2021.first()[\"Country name\"]\n",
    "\n",
    "print(\"El país más feliz del 2021 es:\", happiest_country)"
   ]
  },
  {
   "cell_type": "code",
   "execution_count": 10,
   "id": "d6e91f7b",
   "metadata": {},
   "outputs": [
    {
     "name": "stdout",
     "output_type": "stream",
     "text": [
      "+--------------------+--------------------+------------+\n",
      "|  Regional indicator|        Country name|Ladder score|\n",
      "+--------------------+--------------------+------------+\n",
      "|      Western Europe|             Finland|       7.842|\n",
      "|North America and...|         New Zealand|       7.277|\n",
      "|Middle East and N...|              Israel|       7.157|\n",
      "|Latin America and...|          Costa Rica|       7.069|\n",
      "|Central and Easte...|      Czech Republic|       6.965|\n",
      "|           East Asia|Taiwan Province o...|       6.584|\n",
      "|      Southeast Asia|           Singapore|       6.377|\n",
      "|Commonwealth of I...|          Uzbekistan|       6.179|\n",
      "|  Sub-Saharan Africa|           Mauritius|       6.049|\n",
      "|          South Asia|               Nepal|       5.269|\n",
      "+--------------------+--------------------+------------+\n",
      "\n"
     ]
    }
   ],
   "source": [
    "#*******Pregunta 2: ¿Cuál es el país más “feliz” del 2021 por continente según la data?\n",
    "\n",
    "   #Agrupar por Regional Indicator\n",
    "grouped_df_2021 = df_2021_ordenado.groupBy(\"Regional indicator\")\n",
    "\n",
    "\n",
    "   # Ordenar cada grupo según la columna \"Ladder score\" en orden descendente\n",
    "sorted_df_2021 = grouped_df_2021.agg(\n",
    "    first(\"Country name\").alias(\"Country name\"), \n",
    "    first(\"Ladder score\").alias(\"Ladder score\")\n",
    ").orderBy(desc(\"Ladder score\"))\n",
    "\n",
    "   # Imprimir el país más feliz por continente\n",
    "sorted_df_2021.show()"
   ]
  },
  {
   "cell_type": "code",
   "execution_count": 11,
   "id": "8c814223",
   "metadata": {},
   "outputs": [
    {
     "name": "stdout",
     "output_type": "stream",
     "text": [
      "root\n",
      " |-- Country name: string (nullable = true)\n",
      " |-- Regional indicator: string (nullable = true)\n",
      " |-- Ladder score: string (nullable = true)\n",
      " |-- Standard error of ladder score: string (nullable = true)\n",
      " |-- upperwhisker: string (nullable = true)\n",
      " |-- lowerwhisker: string (nullable = true)\n",
      " |-- Logged GDP per capita: string (nullable = true)\n",
      " |-- Social support: string (nullable = true)\n",
      " |-- Healthy life expectancy: string (nullable = true)\n",
      " |-- Freedom to make life choices: string (nullable = true)\n",
      " |-- Generosity: string (nullable = true)\n",
      " |-- Perceptions of corruption: string (nullable = true)\n",
      " |-- Ladder score in Dystopia: string (nullable = true)\n",
      " |-- Explained by: Log GDP per capita: string (nullable = true)\n",
      " |-- Explained by: Social support: string (nullable = true)\n",
      " |-- Explained by: Healthy life expectancy: string (nullable = true)\n",
      " |-- Explained by: Freedom to make life choices: string (nullable = true)\n",
      " |-- Explained by: Generosity: string (nullable = true)\n",
      " |-- Explained by: Perceptions of corruption: string (nullable = true)\n",
      " |-- Dystopia + residual: string (nullable = true)\n",
      "\n"
     ]
    }
   ],
   "source": [
    "#¿Cuál es el país que más veces ocupó el primer lugar en todos los años?\n",
    "#leemos otra vez 2021\n",
    "df_2021 = spark.read.format(\"csv\").option(\"header\", \"true\").option(\"delimiter\", \",\").load(\"C:/Users/USER/Desktop/DayanaFrepost/big-data-processing/Proyecto-Final/Datasets/world-happiness-report-2021.csv\")\n",
    "df_2021.printSchema()\n",
    "\n"
   ]
  },
  {
   "cell_type": "code",
   "execution_count": 12,
   "id": "8bdbb7af",
   "metadata": {},
   "outputs": [
    {
     "name": "stdout",
     "output_type": "stream",
     "text": [
      "root\n",
      " |-- Country name: string (nullable = true)\n",
      " |-- year: string (nullable = true)\n",
      " |-- Life Ladder: string (nullable = true)\n",
      " |-- Log GDP per capita: string (nullable = true)\n",
      " |-- Social support: string (nullable = true)\n",
      " |-- Healthy life expectancy at birth: string (nullable = true)\n",
      " |-- Freedom to make life choices: string (nullable = true)\n",
      " |-- Generosity: string (nullable = true)\n",
      " |-- Perceptions of corruption: string (nullable = true)\n",
      " |-- Positive affect: string (nullable = true)\n",
      " |-- Negative affect: string (nullable = true)\n",
      "\n"
     ]
    }
   ],
   "source": [
    "#Leemos un cvs anteriores a 2021\n",
    "df_anterior = spark.read.format(\"csv\").option(\"header\", \"true\").option(\"delimiter\", \",\").load(\"C:/Users/USER/Desktop/DayanaFrepost/big-data-processing/Proyecto-Final/Datasets/world-happiness-report.csv\")\n",
    "df_anterior.printSchema()"
   ]
  },
  {
   "cell_type": "code",
   "execution_count": 13,
   "id": "268a5dad",
   "metadata": {},
   "outputs": [
    {
     "name": "stdout",
     "output_type": "stream",
     "text": [
      "+----+------------+-----------+\n",
      "|year|Country name|Life Ladder|\n",
      "+----+------------+-----------+\n",
      "|2005|     Denmark|      8.019|\n",
      "|2008|     Denmark|      7.971|\n",
      "|2020|     Finland|      7.889|\n",
      "|2018|     Finland|      7.858|\n",
      "|2007|     Denmark|      7.834|\n",
      "|2017|     Finland|      7.788|\n",
      "|2011|     Denmark|      7.788|\n",
      "|2019|     Finland|      7.780|\n",
      "|2012| Switzerland|      7.776|\n",
      "|2010|     Denmark|      7.771|\n",
      "|2019| Switzerland|      7.694|\n",
      "|2019|     Denmark|      7.693|\n",
      "|2009|     Denmark|      7.683|\n",
      "|2012|      Norway|      7.678|\n",
      "|2006|     Finland|      7.672|\n",
      "|2008|     Finland|      7.671|\n",
      "|2016|     Finland|      7.660|\n",
      "|2010|      Canada|      7.650|\n",
      "|2018|     Denmark|      7.649|\n",
      "|2008|      Norway|      7.632|\n",
      "+----+------------+-----------+\n",
      "only showing top 20 rows\n",
      "\n"
     ]
    }
   ],
   "source": [
    "df_anterior_ordenado = df_anterior.select('year','Country name', 'Life Ladder').orderBy(desc(\"Life Ladder\"), desc(\"Country name\"))\n",
    "# Muestra el DataFrame ordenado\n",
    "df_anterior_ordenado.show()"
   ]
  },
  {
   "cell_type": "code",
   "execution_count": 14,
   "id": "ca0248bf",
   "metadata": {},
   "outputs": [
    {
     "name": "stdout",
     "output_type": "stream",
     "text": [
      "root\n",
      " |-- Country name: string (nullable = true)\n",
      " |-- Regional indicator: string (nullable = true)\n",
      " |-- Ladder score: string (nullable = true)\n",
      " |-- Standard error of ladder score: string (nullable = true)\n",
      " |-- upperwhisker: string (nullable = true)\n",
      " |-- lowerwhisker: string (nullable = true)\n",
      " |-- Logged GDP per capita: string (nullable = true)\n",
      " |-- Social support: string (nullable = true)\n",
      " |-- Healthy life expectancy: string (nullable = true)\n",
      " |-- Freedom to make life choices: string (nullable = true)\n",
      " |-- Generosity: string (nullable = true)\n",
      " |-- Perceptions of corruption: string (nullable = true)\n",
      " |-- Ladder score in Dystopia: string (nullable = true)\n",
      " |-- Explained by: Log GDP per capita: string (nullable = true)\n",
      " |-- Explained by: Social support: string (nullable = true)\n",
      " |-- Explained by: Healthy life expectancy: string (nullable = true)\n",
      " |-- Explained by: Freedom to make life choices: string (nullable = true)\n",
      " |-- Explained by: Generosity: string (nullable = true)\n",
      " |-- Explained by: Perceptions of corruption: string (nullable = true)\n",
      " |-- Dystopia + residual: string (nullable = true)\n",
      " |-- year: string (nullable = false)\n",
      "\n"
     ]
    }
   ],
   "source": [
    "from pyspark.sql.functions import lit\n",
    "\n",
    "# Agregar columna year con contenido \"2021\"\n",
    "df_2021_with_year = df_2021.withColumn(\"year\", lit(\"2021\"))\n",
    "df_2021_with_year.printSchema()"
   ]
  },
  {
   "cell_type": "code",
   "execution_count": 15,
   "id": "60a17010",
   "metadata": {},
   "outputs": [
    {
     "name": "stdout",
     "output_type": "stream",
     "text": [
      "+----+--------------+-----------+\n",
      "|year|  Country name|Life Ladder|\n",
      "+----+--------------+-----------+\n",
      "|2021|       Finland|      7.842|\n",
      "|2021|       Denmark|      7.620|\n",
      "|2021|   Switzerland|      7.571|\n",
      "|2021|       Iceland|      7.554|\n",
      "|2021|   Netherlands|      7.464|\n",
      "|2021|        Norway|      7.392|\n",
      "|2021|        Sweden|      7.363|\n",
      "|2021|    Luxembourg|      7.324|\n",
      "|2021|   New Zealand|      7.277|\n",
      "|2021|       Austria|      7.268|\n",
      "|2021|     Australia|      7.183|\n",
      "|2021|        Israel|      7.157|\n",
      "|2021|       Germany|      7.155|\n",
      "|2021|        Canada|      7.103|\n",
      "|2021|       Ireland|      7.085|\n",
      "|2021|    Costa Rica|      7.069|\n",
      "|2021|United Kingdom|      7.064|\n",
      "|2021|Czech Republic|      6.965|\n",
      "|2021| United States|      6.951|\n",
      "|2021|       Belgium|      6.834|\n",
      "+----+--------------+-----------+\n",
      "only showing top 20 rows\n",
      "\n"
     ]
    }
   ],
   "source": [
    "#renombro la columna ladder a life ladder\n",
    "df_2021_with_year = df_2021_with_year.withColumnRenamed(\"Ladder score\", \"Life Ladder\")\n",
    "df_2021_with_year.select('year','Country name','Life Ladder').show(20)\n"
   ]
  },
  {
   "cell_type": "code",
   "execution_count": 16,
   "id": "1ae3e8d0",
   "metadata": {},
   "outputs": [
    {
     "name": "stdout",
     "output_type": "stream",
     "text": [
      "+----+------------+-----------+\n",
      "|year|Country name|Life Ladder|\n",
      "+----+------------+-----------+\n",
      "|2005|     Denmark|      8.019|\n",
      "|2008|     Denmark|      7.971|\n",
      "|2020|     Finland|      7.889|\n",
      "|2018|     Finland|      7.858|\n",
      "|2021|     Finland|      7.842|\n",
      "|2007|     Denmark|      7.834|\n",
      "|2017|     Finland|      7.788|\n",
      "|2011|     Denmark|      7.788|\n",
      "|2019|     Finland|      7.780|\n",
      "|2012| Switzerland|      7.776|\n",
      "|2010|     Denmark|      7.771|\n",
      "|2019| Switzerland|      7.694|\n",
      "|2019|     Denmark|      7.693|\n",
      "|2009|     Denmark|      7.683|\n",
      "|2012|      Norway|      7.678|\n",
      "|2006|     Finland|      7.672|\n",
      "|2008|     Finland|      7.671|\n",
      "|2016|     Finland|      7.660|\n",
      "|2010|      Canada|      7.650|\n",
      "|2018|     Denmark|      7.649|\n",
      "+----+------------+-----------+\n",
      "only showing top 20 rows\n",
      "\n"
     ]
    }
   ],
   "source": [
    "df_completo = df_anterior_ordenado.union(df_2021_with_year.select('year','Country name','Life Ladder'))\n",
    "df_completo = df_completo.orderBy(desc(\"Life Ladder\"), desc(\"Country name\"))\n",
    "# Mostrar el resultado\n",
    "df_completo.show()"
   ]
  },
  {
   "cell_type": "code",
   "execution_count": 17,
   "id": "136d29a7",
   "metadata": {},
   "outputs": [
    {
     "name": "stdout",
     "output_type": "stream",
     "text": [
      "+----+------------+-----------+\n",
      "|year|Country name|Life Ladder|\n",
      "+----+------------+-----------+\n",
      "|2005|     Denmark|      8.019|\n",
      "|2006|     Finland|      7.672|\n",
      "|2007|     Denmark|      7.834|\n",
      "|2008|     Denmark|      7.971|\n",
      "|2009|     Denmark|      7.683|\n",
      "|2010|     Denmark|      7.771|\n",
      "|2011|     Denmark|      7.788|\n",
      "|2012| Switzerland|      7.776|\n",
      "|2013|      Canada|      7.594|\n",
      "|2014|     Denmark|      7.508|\n",
      "|2015|      Norway|      7.603|\n",
      "|2016|     Finland|      7.660|\n",
      "|2017|     Finland|      7.788|\n",
      "|2018|     Finland|      7.858|\n",
      "|2019|     Finland|      7.780|\n",
      "|2020|     Finland|      7.889|\n",
      "|2021|     Finland|      7.842|\n",
      "+----+------------+-----------+\n",
      "\n"
     ]
    }
   ],
   "source": [
    "from pyspark.sql.window import Window\n",
    "from pyspark.sql.functions import desc, row_number\n",
    "\n",
    "# Definir la ventana por la cual se ordenará el dataset y se obtendrá el ranking\n",
    "window = Window.partitionBy('year').orderBy(desc('Life Ladder'))\n",
    "\n",
    "# Agregar una columna 'ranking' con el ranking por año de los países por Life Ladder\n",
    "df_ranking = df_completo.withColumn('ranking', row_number().over(window)).where('ranking == 1')\n",
    "\n",
    "# Seleccionar las columnas deseadas y mostrar el resultado\n",
    "df_resultado = df_ranking.select('year', 'Country name', 'Life Ladder')\n",
    "df_resultado.show()\n"
   ]
  },
  {
   "cell_type": "code",
   "execution_count": 18,
   "id": "2c606d3c",
   "metadata": {},
   "outputs": [
    {
     "name": "stdout",
     "output_type": "stream",
     "text": [
      "+------------+-----+\n",
      "|Country name|count|\n",
      "+------------+-----+\n",
      "|      Canada|    1|\n",
      "| Switzerland|    1|\n",
      "|      Norway|    1|\n",
      "|     Finland|    7|\n",
      "|     Denmark|    7|\n",
      "+------------+-----+\n",
      "\n"
     ]
    }
   ],
   "source": [
    "#******Pregunta 3:¿Cuál es el país que más veces ocupó el primer lugar en todos los años?\n",
    "from pyspark.sql.functions import desc\n",
    "\n",
    "# Agrupar por país, contar cuántas veces aparece cada país y ordenar en orden descendente\n",
    "repeticiones_pais = df_resultado.groupBy('Country name').count().orderBy(('count'))\n",
    "\n",
    "# Imprimir el resultado\n",
    "repeticiones_pais.show()\n"
   ]
  },
  {
   "cell_type": "code",
   "execution_count": 19,
   "id": "eb62b0f4",
   "metadata": {},
   "outputs": [
    {
     "name": "stdout",
     "output_type": "stream",
     "text": [
      "+--------------------+------------------+-----------+\n",
      "|        Country name|Log GDP per capita|Life Ladder|\n",
      "+--------------------+------------------+-----------+\n",
      "|             Ireland|            11.323|      7.035|\n",
      "|         Switzerland|            11.081|      7.508|\n",
      "|United Arab Emirates|            11.053|      6.458|\n",
      "|              Norway|            11.042|       7.29|\n",
      "|       United States|            11.001|      7.028|\n",
      "|             Denmark|             10.91|      7.515|\n",
      "|         Netherlands|            10.901|      7.504|\n",
      "|             Austria|            10.851|      7.213|\n",
      "|              Sweden|            10.838|      7.314|\n",
      "|             Germany|            10.833|      7.312|\n",
      "|             Iceland|            10.824|      7.575|\n",
      "|             Belgium|            10.771|      6.839|\n",
      "|           Australia|             10.76|      7.137|\n",
      "|             Finland|             10.75|      7.889|\n",
      "|              Canada|             10.73|      7.025|\n",
      "|        Saudi Arabia|            10.701|       6.56|\n",
      "|         South Korea|            10.648|      5.793|\n",
      "|              France|            10.643|      6.714|\n",
      "|      United Kingdom|            10.626|      6.798|\n",
      "|             Bahrain|             10.62|      6.173|\n",
      "+--------------------+------------------+-----------+\n",
      "only showing top 20 rows\n",
      "\n"
     ]
    }
   ],
   "source": [
    "from pyspark.sql.functions import col\n",
    "\n",
    "# Convertir columnas numéricas a DoubleType\n",
    "num_cols = ['Life Ladder', 'Log GDP per capita', 'Social support',             'Healthy life expectancy at birth', 'Freedom to make life choices',            'Generosity', 'Perceptions of corruption', 'Positive affect', 'Negative affect']\n",
    "\n",
    "for col_name in num_cols:\n",
    "    df_anterior = df_anterior.withColumn(col_name, col(col_name).cast('double'))\n",
    "\n",
    "# Filtrar datos del año 2020\n",
    "df_2020 = df_anterior.filter(col('year') == '2020')\n",
    "\n",
    "# Ordenar por Log GDP per capita descendente y seleccionar columnas relevantes\n",
    "top_2020 = df_2020.select('Country name', 'Log GDP per capita','Life Ladder') \\\n",
    "                .orderBy(col('Log GDP per capita').desc()) \\\n",
    "        \n",
    "\n",
    "# Mostrar resultados\n",
    "top_2020.show()\n"
   ]
  },
  {
   "cell_type": "code",
   "execution_count": null,
   "id": "d95ee729",
   "metadata": {},
   "outputs": [],
   "source": [
    "# Pregunta No.4. ¿Qué puesto de Felicidad tiene el país con mayor GDP del 2020?"
   ]
  },
  {
   "cell_type": "code",
   "execution_count": 20,
   "id": "89b0ec84",
   "metadata": {},
   "outputs": [
    {
     "name": "stdout",
     "output_type": "stream",
     "text": [
      "+--------------------+------------------+-----------+----------------+--------+\n",
      "|        Country name|Log GDP per capita|Life Ladder|Rank Life Ladder|Rank GDP|\n",
      "+--------------------+------------------+-----------+----------------+--------+\n",
      "|             Ireland|            11.323|      7.035|              13|       1|\n",
      "|         Switzerland|            11.081|      7.508|               4|       2|\n",
      "|United Arab Emirates|            11.053|      6.458|              27|       3|\n",
      "|              Norway|            11.042|       7.29|               8|       4|\n",
      "|       United States|            11.001|      7.028|              14|       5|\n",
      "|             Denmark|             10.91|      7.515|               3|       6|\n",
      "|         Netherlands|            10.901|      7.504|               5|       7|\n",
      "|             Austria|            10.851|      7.213|              10|       8|\n",
      "|              Sweden|            10.838|      7.314|               6|       9|\n",
      "|             Germany|            10.833|      7.312|               7|      10|\n",
      "|             Iceland|            10.824|      7.575|               2|      11|\n",
      "|             Belgium|            10.771|      6.839|              17|      12|\n",
      "|           Australia|             10.76|      7.137|              12|      13|\n",
      "|             Finland|             10.75|      7.889|               1|      14|\n",
      "|              Canada|             10.73|      7.025|              15|      15|\n",
      "|        Saudi Arabia|            10.701|       6.56|              21|      16|\n",
      "|         South Korea|            10.648|      5.793|              50|      17|\n",
      "|              France|            10.643|      6.714|              20|      18|\n",
      "|      United Kingdom|            10.626|      6.798|              18|      19|\n",
      "|             Bahrain|             10.62|      6.173|              35|      20|\n",
      "+--------------------+------------------+-----------+----------------+--------+\n",
      "only showing top 20 rows\n",
      "\n"
     ]
    }
   ],
   "source": [
    "from pyspark.sql.functions import row_number, desc\n",
    "from pyspark.sql.window import Window\n",
    "\n",
    "top_2020 = df_2020.select('Country name', 'Log GDP per capita', 'Life Ladder') \\\n",
    "                  .orderBy(desc('Log GDP per capita'))\n",
    "\n",
    "window_gdp = Window.orderBy(desc('Log GDP per capita'))\n",
    "window_ladder = Window.orderBy(desc('Life Ladder'))\n",
    "top_2020 = top_2020.withColumn('Rank Life Ladder', row_number().over(window_ladder))\n",
    "top_2020 = top_2020.withColumn('Rank GDP', row_number().over(window_gdp))\n",
    "\n",
    "top_2020.show()"
   ]
  },
  {
   "cell_type": "code",
   "execution_count": null,
   "id": "6c871b91",
   "metadata": {},
   "outputs": [],
   "source": [
    "#Pregunta No 5. ¿En que porcentaje ha variado a nivel mundial el GDP promedio del 2020 respecto al 2021? ¿Aumentó o disminuyó?"
   ]
  },
  {
   "cell_type": "code",
   "execution_count": 23,
   "id": "b9b42b6b",
   "metadata": {
    "scrolled": true
   },
   "outputs": [
    {
     "name": "stdout",
     "output_type": "stream",
     "text": [
      "Promedio 2021: 9.432208053691273\n",
      "Promedio 2020: 9.751329545454546\n",
      "El Log GDP per capita promedio a nivel mundial ha variado en un -3.27% entre 2020 y 2021.\n"
     ]
    }
   ],
   "source": [
    "from pyspark.sql.functions import avg\n",
    "df_2020 = df_2020.withColumnRenamed('Log GDP per capita', 'Logged GDP per capita')\n",
    "\n",
    "# Seleccionar las columnas relevantes de cada dataset\n",
    "df_2020_sel = df_2020.select('Country name', 'Logged GDP per capita')\n",
    "df_2021_sel = df_2021_with_year.select('Country name', 'Logged GDP per capita')\n",
    "\n",
    "# Unir los dos dataframes por el campo 'Country name'\n",
    "df_join = df_2020_sel.join(df_2021_sel, ['Country name'])\n",
    "\n",
    "# Calcular los valores promedio de Log GDP per capita en cada año\n",
    "avg_gdp_2020 = df_2020_sel.agg(avg('Logged GDP per capita')).collect()[0][0]\n",
    "avg_gdp_2021 = df_2021_sel.agg(avg('Logged GDP per capita')).collect()[0][0]\n",
    "\n",
    "# Calcular la diferencia porcentual entre los valores promedio de Log GDP per capita\n",
    "pct_change = ((avg_gdp_2021 - avg_gdp_2020) / avg_gdp_2020) * 100\n",
    "\n",
    "# Imprimir el resultado\n",
    "print(\"Promedio 2021:\",avg_gdp_2021)\n",
    "print(\"Promedio 2020:\",avg_gdp_2020)\n",
    "print(f'El Log GDP per capita promedio a nivel mundial ha variado en un {pct_change:.2f}% entre 2020 y 2021.')\n"
   ]
  },
  {
   "cell_type": "code",
   "execution_count": null,
   "id": "c212f659",
   "metadata": {},
   "outputs": [],
   "source": [
    "#¿Cuál es el país con mayor expectativa de vide (“Healthy life expectancy at birth”)? Y ¿Cuánto tenia en ese indicador en el 2019?"
   ]
  },
  {
   "cell_type": "code",
   "execution_count": 24,
   "id": "e1787e4e",
   "metadata": {},
   "outputs": [
    {
     "name": "stdout",
     "output_type": "stream",
     "text": [
      "El país con mayor expectativa de vida en 2019 fue Singapore\n",
      "Tenía una expectativa de vida de 77.1 años.\n"
     ]
    }
   ],
   "source": [
    "from pyspark.sql.functions import desc\n",
    "df_anterior_healty= df_anterior.withColumnRenamed('Healthy life expectancy at birth', 'Healthy life expectancy')\n",
    "max_life_expectancy = df_anterior_healty.select('Country name', 'Healthy life expectancy','year') \\\n",
    "                                .filter(df_anterior.year == '2019') \\\n",
    "                                .orderBy(desc('Healthy life expectancy')) \\\n",
    "                                .first()\n",
    "\n",
    "print(\"El país con mayor expectativa de vida en 2019 fue\", max_life_expectancy[0])\n",
    "print(\"Tenía una expectativa de vida de\", max_life_expectancy[1], \"años.\")\n"
   ]
  },
  {
   "cell_type": "code",
   "execution_count": 29,
   "id": "c920f9b2",
   "metadata": {},
   "outputs": [
    {
     "name": "stdout",
     "output_type": "stream",
     "text": [
      "+--------------+-----------------------+----+\n",
      "|  Country name|Healthy life expectancy|year|\n",
      "+--------------+-----------------------+----+\n",
      "|       Finland|                 72.000|2021|\n",
      "|       Denmark|                 72.700|2021|\n",
      "|   Switzerland|                 74.400|2021|\n",
      "|       Iceland|                 73.000|2021|\n",
      "|   Netherlands|                 72.400|2021|\n",
      "|        Norway|                 73.300|2021|\n",
      "|        Sweden|                 72.700|2021|\n",
      "|    Luxembourg|                 72.600|2021|\n",
      "|   New Zealand|                 73.400|2021|\n",
      "|       Austria|                 73.300|2021|\n",
      "|     Australia|                 73.900|2021|\n",
      "|        Israel|                 73.503|2021|\n",
      "|       Germany|                 72.500|2021|\n",
      "|        Canada|                 73.800|2021|\n",
      "|       Ireland|                 72.400|2021|\n",
      "|    Costa Rica|                 71.400|2021|\n",
      "|United Kingdom|                 72.500|2021|\n",
      "|Czech Republic|                 70.807|2021|\n",
      "| United States|                 68.200|2021|\n",
      "|       Belgium|                 72.199|2021|\n",
      "+--------------+-----------------------+----+\n",
      "only showing top 20 rows\n",
      "\n"
     ]
    }
   ],
   "source": [
    "df_2021_with_year_healty=df_2021_with_year.select('Country name','Healthy life expectancy','year').show(20)"
   ]
  },
  {
   "cell_type": "code",
   "execution_count": 25,
   "id": "51bca763",
   "metadata": {},
   "outputs": [
    {
     "name": "stdout",
     "output_type": "stream",
     "text": [
      "+--------------------+-----------------------+----+\n",
      "|        Country name|Healthy life expectancy|year|\n",
      "+--------------------+-----------------------+----+\n",
      "|           Singapore|                   77.1|2019|\n",
      "|           Singapore|                 76.953|2021|\n",
      "|Hong Kong S.A.R. ...|                 76.820|2021|\n",
      "|           Singapore|                   76.8|2018|\n",
      "|           Singapore|                   76.5|2017|\n",
      "|           Singapore|                   76.2|2016|\n",
      "|           Singapore|                   75.9|2015|\n",
      "|           Singapore|                  75.68|2014|\n",
      "|           Singapore|                  75.46|2013|\n",
      "|               Japan|                   75.2|2020|\n",
      "|               Japan|                 75.100|2021|\n",
      "|               Japan|                   75.1|2019|\n",
      "|           Singapore|                  75.02|2011|\n",
      "|               Spain|                   75.0|2020|\n",
      "|               Japan|                   75.0|2018|\n",
      "|               Japan|                   74.9|2017|\n",
      "|           Singapore|                   74.8|2010|\n",
      "|               Japan|                   74.8|2016|\n",
      "|               Spain|                 74.700|2021|\n",
      "|         Switzerland|                   74.7|2020|\n",
      "+--------------------+-----------------------+----+\n",
      "only showing top 20 rows\n",
      "\n"
     ]
    }
   ],
   "source": [
    "df_completo_healty = df_anterior_healty.select('Country name', 'Healthy life expectancy','year').union(df_2021_with_year.select('Country name','Healthy life expectancy','year'))\n",
    "df_completo_healty = df_completo_healty.orderBy(desc('Healthy life expectancy'), desc(\"Country name\"))\n",
    "\n",
    "# Mostrar el resultado\n",
    "df_completo_healty.show()"
   ]
  },
  {
   "cell_type": "code",
   "execution_count": 27,
   "id": "067ca9a7",
   "metadata": {},
   "outputs": [
    {
     "name": "stdout",
     "output_type": "stream",
     "text": [
      "+----+------------+-----------------------+\n",
      "|year|Country name|Healthy life expectancy|\n",
      "+----+------------+-----------------------+\n",
      "|2005|       Japan|                   73.2|\n",
      "|2006|   Singapore|                   73.6|\n",
      "|2007|   Singapore|                   73.9|\n",
      "|2008|   Singapore|                   74.2|\n",
      "|2009|   Singapore|                   74.5|\n",
      "|2010|   Singapore|                   74.8|\n",
      "|2011|   Singapore|                  75.02|\n",
      "|2012|       Japan|                  74.16|\n",
      "|2013|   Singapore|                  75.46|\n",
      "|2014|   Singapore|                  75.68|\n",
      "|2015|   Singapore|                   75.9|\n",
      "|2016|   Singapore|                   76.2|\n",
      "|2017|   Singapore|                   76.5|\n",
      "|2018|   Singapore|                   76.8|\n",
      "|2019|   Singapore|                   77.1|\n",
      "|2020|       Japan|                   75.2|\n",
      "|2021|   Singapore|                 76.953|\n",
      "+----+------------+-----------------------+\n",
      "\n"
     ]
    }
   ],
   "source": [
    "from pyspark.sql.window import Window\n",
    "from pyspark.sql.functions import desc, row_number\n",
    "\n",
    "# Definir la ventana por la cual se ordenará el dataset y se obtendrá el ranking\n",
    "window = Window.partitionBy('year').orderBy(desc('Healthy life expectancy'))\n",
    "\n",
    "# Agregar una columna 'ranking' con el ranking por año de los países por Life Ladder\n",
    "df_ranking_healty = df_completo_healty.withColumn('rankingHealty', row_number().over(window)).where('rankingHealty == 1')\n",
    "\n",
    "# Seleccionar las columnas deseadas y mostrar el resultado\n",
    "df_resultado_healty = df_ranking_healty.select('year', 'Country name', 'Healthy life expectancy')\n",
    "df_resultado_healty.show()\n"
   ]
  },
  {
   "cell_type": "code",
   "execution_count": 28,
   "id": "8efb170c",
   "metadata": {},
   "outputs": [
    {
     "name": "stdout",
     "output_type": "stream",
     "text": [
      "+------------+-----+\n",
      "|Country name|count|\n",
      "+------------+-----+\n",
      "|       Japan|    3|\n",
      "|   Singapore|   14|\n",
      "+------------+-----+\n",
      "\n"
     ]
    }
   ],
   "source": [
    "# Agrupar por país, contar cuántas veces aparece cada país y ordenar en orden descendente\n",
    "repeticiones_pais_healty = df_resultado_healty.groupBy('Country name').count().orderBy(('count'))\n",
    "\n",
    "# Imprimir el resultado\n",
    "repeticiones_pais_healty.show()\n"
   ]
  },
  {
   "cell_type": "code",
   "execution_count": null,
   "id": "487f2785",
   "metadata": {},
   "outputs": [],
   "source": []
  }
 ],
 "metadata": {
  "kernelspec": {
   "display_name": "Python 3 (ipykernel)",
   "language": "python",
   "name": "python3"
  },
  "language_info": {
   "codemirror_mode": {
    "name": "ipython",
    "version": 3
   },
   "file_extension": ".py",
   "mimetype": "text/x-python",
   "name": "python",
   "nbconvert_exporter": "python",
   "pygments_lexer": "ipython3",
   "version": "3.9.13"
  }
 },
 "nbformat": 4,
 "nbformat_minor": 5
}
